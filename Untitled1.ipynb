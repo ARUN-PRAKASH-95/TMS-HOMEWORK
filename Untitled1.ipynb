{
 "cells": [
  {
   "cell_type": "code",
   "execution_count": null,
   "metadata": {},
   "outputs": [],
   "source": [
    "import matplotlib.pyplot as plt\n",
    "import numpy as np\n",
    "\n",
    "l              = 2e-6 #metres\n",
    "shear_modulus  = 26e9 #Pa\n",
    "poissons_ratio = 0.33\n",
    "burgers_vector = 0.256e-9 #metres\n",
    "x_coords       = l*np.array([0.1,0.13,0.16,0.3])\n",
    "B              = 10**-4\n",
    "timestep       = 0.1e-8\n",
    "time           = 0\n",
    "time_y         = []\n",
    "positions      = []\n",
    "\n",
    "\n",
    "def get_internal_stress(x_coords,shear_modulus,burgers_vector, poissons_ratio): # To get the stress exerted by other dislocations on a single dislocation for all dislocations\n",
    "    K           = np.array([])\n",
    "    for i in range(len(x_coords)):\n",
    "            new = np.delete(x_coords,i)                                         # Array without i-th element\n",
    "            S   = ((shear_modulus*burgers_vector)/(2*np.pi*(1-poissons_ratio)))*(1/(x_coords[i]-new))\n",
    "            K   = np.append(K,np.sum(S))\n",
    "            \n",
    "    return K\n",
    "            \n",
    "def velocity(burgers_vector,B,shearstress):  # To find velocity of the dislocation for a given stress for all dislocations\n",
    "    return (burgers_vector*shearstress)/B             \n",
    "\n",
    "for i in range(10):                          # To find the position of each dislocations\n",
    "    T        = get_internal_stress(x_coords,shear_modulus,burgers_vector, poissons_ratio)\n",
    "    V        = velocity(burgers_vector,B,T)\n",
    "    x_coords = x_coords + timestep * V\n",
    "    \n",
    "    time     = time + timestep\n",
    "    time_y.append(time)\n",
    "    positions.append(x_coords)\n",
    "    \n",
    "\n",
    "  \n",
    "print(positions)\n",
    "    \n",
    "plt.plot(positions,time_y)\n",
    "plt.show()\n",
    "\n",
    "    "
   ]
  }
 ],
 "metadata": {
  "kernelspec": {
   "display_name": "Python 3",
   "language": "python",
   "name": "python3"
  },
  "language_info": {
   "codemirror_mode": {
    "name": "ipython",
    "version": 3
   },
   "file_extension": ".py",
   "mimetype": "text/x-python",
   "name": "python",
   "nbconvert_exporter": "python",
   "pygments_lexer": "ipython3",
   "version": "3.6.7"
  }
 },
 "nbformat": 4,
 "nbformat_minor": 2
}
