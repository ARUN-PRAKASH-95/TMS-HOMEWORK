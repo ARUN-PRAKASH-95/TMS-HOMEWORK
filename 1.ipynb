{
 "cells": [
  {
   "cell_type": "code",
   "execution_count": 16,
   "metadata": {},
   "outputs": [
    {
     "name": "stdout",
     "output_type": "stream",
     "text": [
      "-43480180.27394108\n",
      "-4650286.660314555\n",
      "33880659.95372032\n",
      "14249806.980535315\n"
     ]
    }
   ],
   "source": [
    "import numpy as np\n",
    "\n",
    "l= 2e-6 #metres\n",
    "shear_modulus= 26e9 #Pa\n",
    "poissons_ratio = 0.33\n",
    "burgers_vector = 0.256e-9 #metres\n",
    "x_coords = l*np.array([0.1,0.13,0.16,0.3])\n",
    "\n",
    "\n",
    "\n",
    "def get_internal_stress(x_coords,shear_modulus,burgers_vector, poissons_ratio): \n",
    "    \n",
    "    for i in range(len(x_coords)):\n",
    "            new = np.delete(x_coords,i)\n",
    "            S = ((shear_modulus*burgers_vector)/(2*np.pi*(1-poissons_ratio)))*(1/(x_coords[i]-new))\n",
    "            print(np.sum(S))\n",
    "            \n",
    "get_internal_stress(x_coords,shear_modulus,burgers_vector,poissons_ratio)\n",
    "\n",
    "\n",
    "for i in range(10):\n",
    "    "
   ]
  },
  {
   "cell_type": "code",
   "execution_count": null,
   "metadata": {},
   "outputs": [],
   "source": []
  }
 ],
 "metadata": {
  "kernelspec": {
   "display_name": "Python 3",
   "language": "python",
   "name": "python3"
  },
  "language_info": {
   "codemirror_mode": {
    "name": "ipython",
    "version": 3
   },
   "file_extension": ".py",
   "mimetype": "text/x-python",
   "name": "python",
   "nbconvert_exporter": "python",
   "pygments_lexer": "ipython3",
   "version": "3.6.7"
  }
 },
 "nbformat": 4,
 "nbformat_minor": 2
}
