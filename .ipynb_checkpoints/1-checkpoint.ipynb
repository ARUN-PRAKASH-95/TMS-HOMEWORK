{
 "cells": [
  {
   "cell_type": "code",
   "execution_count": 98,
   "metadata": {},
   "outputs": [
    {
     "name": "stdout",
     "output_type": "stream",
     "text": [
      "[array([8.86907385e-08, 2.48095266e-07, 4.06734489e-07, 6.36479506e-07]), array([4.31830996e-08, 2.37551108e-07, 4.27357794e-07, 6.71907999e-07]), array([5.38497243e-09, 2.27732040e-07, 4.42667314e-07, 7.04215674e-07]), array([-2.78673016e-08,  2.18609545e-07,  4.55279789e-07,  7.33977967e-07]), array([-5.79796615e-08,  2.10075276e-07,  4.66236427e-07,  7.61667959e-07]), array([-8.57390795e-08,  2.02036133e-07,  4.76058048e-07,  7.87644899e-07]), array([-1.11643409e-07,  1.94418396e-07,  4.85043607e-07,  8.12181405e-07]), array([-1.36033052e-07,  1.87163916e-07,  4.93381531e-07,  8.35487605e-07]), array([-1.59153728e-07,  1.80226304e-07,  5.01198919e-07,  8.57728505e-07]), array([-1.81190087e-07,  1.73568022e-07,  5.08586036e-07,  8.79036029e-07])]\n"
     ]
    },
    {
     "data": {
      "image/png": "[encoded data removed]",
      "text/plain": [
       "<Figure size 432x288 with 1 Axes>"
      ]
     },
     "metadata": {
      "needs_background": "light"
     },
     "output_type": "display_data"
    }
   ],
   "source": [
    "import matplotlib.pyplot as plt\n",
    "import numpy as np\n",
    "\n",
    "l              = 2e-6 #metres\n",
    "shear_modulus  = 26e9 #Pa\n",
    "poissons_ratio = 0.33\n",
    "burgers_vector = 0.256e-9 #metres\n",
    "x_coords       = l*np.array([0.1,0.13,0.16,0.3])\n",
    "B              = 10**-4\n",
    "timestep       = 0.1e-8\n",
    "time           = 0\n",
    "time_y         = []\n",
    "positions      = []\n",
    "\n",
    "\n",
    "def get_internal_stress(x_coords,shear_modulus,burgers_vector, poissons_ratio): # To get the stress exerted by other dislocations on a single dislocation for all dislocations\n",
    "    K           = np.array([])\n",
    "    for i in range(len(x_coords)):\n",
    "            new = np.delete(x_coords,i)                                         # Array without i-th element\n",
    "            S   = ((shear_modulus*burgers_vector)/(2*np.pi*(1-poissons_ratio)))*(1/(x_coords[i]-new))\n",
    "            K   = np.append(K,np.sum(S))\n",
    "            \n",
    "    return K\n",
    "            \n",
    "def velocity(burgers_vector,B,shearstress):  # To find velocity of the dislocation for a given stress for all dislocations\n",
    "    return (burgers_vector*shearstress)/B             \n",
    "\n",
    "for i in range(10):                          # To find the position of each dislocations\n",
    "    T        = get_internal_stress(x_coords,shear_modulus,burgers_vector, poissons_ratio)\n",
    "    V        = velocity(burgers_vector,B,T)\n",
    "    x_coords = x_coords + timestep * V\n",
    "    \n",
    "    time     = time + timestep\n",
    "    time_y.append(time)\n",
    "    positions.append(x_coords)\n",
    "    \n",
    "\n",
    "  \n",
    "print(positions)\n",
    "    \n",
    "plt.plot(positions,time_y)\n",
    "plt.show()\n",
    "\n",
    "    "
   ]
  },
  {
   "cell_type": "code",
   "execution_count": null,
   "metadata": {},
   "outputs": [],
   "source": []
  }
 ],
 "metadata": {
  "kernelspec": {
   "display_name": "Python 3",
   "language": "python",
   "name": "python3"
  },
  "language_info": {
   "codemirror_mode": {
    "name": "ipython",
    "version": 3
   },
   "file_extension": ".py",
   "mimetype": "text/x-python",
   "name": "python",
   "nbconvert_exporter": "python",
   "pygments_lexer": "ipython3",
   "version": "3.6.7"
  }
 },
 "nbformat": 4,
 "nbformat_minor": 2
}
